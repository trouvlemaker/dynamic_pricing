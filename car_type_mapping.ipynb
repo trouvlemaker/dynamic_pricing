{
 "cells": [
  {
   "cell_type": "code",
   "execution_count": 1,
   "id": "10746532-7662-47ba-9c51-339f85724f12",
   "metadata": {},
   "outputs": [],
   "source": [
    "import pandas as pd\n",
    "import numpy as np\n",
    "from time import time\n",
    "import re\n",
    "from tqdm import tqdm\n",
    "from sklearn.metrics import jaccard_score\n",
    "import missingno as msno\n",
    "from google.cloud import bigquery\n"
   ]
  },
  {
   "cell_type": "code",
   "execution_count": 2,
   "id": "ebb8db2e-87ff-4351-aa91-d96424ef9aab",
   "metadata": {},
   "outputs": [],
   "source": [
    "bqclient = bigquery.Client(project='charged-genre-350106')"
   ]
  },
  {
   "cell_type": "markdown",
   "id": "b69e0331-0c86-415e-9ab3-7e512cd26c61",
   "metadata": {},
   "source": [
    "### 제주패스 차종 "
   ]
  },
  {
   "cell_type": "code",
   "execution_count": 3,
   "id": "ce6b2f52-14bb-49e7-9663-baaece08a7e7",
   "metadata": {},
   "outputs": [],
   "source": [
    "query_rentcar= \"\"\"\n",
    "SELECT\n",
    "  product_name,\n",
    "  car_type\n",
    "FROM \n",
    "  `charged-genre-350106.bcml.bcml_rentcar`\n",
    "\"\"\""
   ]
  },
  {
   "cell_type": "code",
   "execution_count": 4,
   "id": "9a94ae2c-62a2-49a3-b886-2eca2c254df6",
   "metadata": {},
   "outputs": [],
   "source": [
    "jjps= bqclient.query(query_rentcar).to_dataframe()"
   ]
  },
  {
   "cell_type": "code",
   "execution_count": 5,
   "id": "53c756ef-ef1a-48ce-8f13-d57be6e3fdf2",
   "metadata": {},
   "outputs": [
    {
     "name": "stderr",
     "output_type": "stream",
     "text": [
      "  0%|          | 0/392 [00:00<?, ?it/s]/opt/conda/lib/python3.7/site-packages/ipykernel_launcher.py:12: SettingWithCopyWarning: \n",
      "A value is trying to be set on a copy of a slice from a DataFrame\n",
      "\n",
      "See the caveats in the documentation: https://pandas.pydata.org/pandas-docs/stable/user_guide/indexing.html#returning-a-view-versus-a-copy\n",
      "  if sys.path[0] == \"\":\n",
      "100%|██████████| 392/392 [00:00<00:00, 3728.52it/s]\n"
     ]
    }
   ],
   "source": [
    "#null값 제거\n",
    "jjps=jjps.dropna(axis=0)\n",
    "\n",
    "#중복 자동차 이름 \n",
    "jjps=jjps.drop_duplicates(['product_name'])\n",
    "\n",
    "#리인덱싱(중간에 빈 인덱스)\n",
    "jjps=jjps.reset_index()\n",
    "\n",
    "#괄호 및 괄호안의 문자 제거 \n",
    "for i in tqdm(range(len(jjps))):\n",
    "    jjps['product_name'][i]=re.sub('\\(.*\\)|\\s-\\s.*','',jjps['product_name'][i])\n",
    "\n",
    "#필요 데이터만 남기고\n",
    "jjps=jjps[['product_name','car_type']]\n",
    "\n",
    "#컬럼명 수정\n",
    "jjps.columns=['car_name','car_type']"
   ]
  },
  {
   "cell_type": "code",
   "execution_count": 6,
   "id": "0fa4cfc7-e792-4a97-8049-aac8acad8d52",
   "metadata": {},
   "outputs": [
    {
     "data": {
      "text/html": [
       "<div>\n",
       "<style scoped>\n",
       "    .dataframe tbody tr th:only-of-type {\n",
       "        vertical-align: middle;\n",
       "    }\n",
       "\n",
       "    .dataframe tbody tr th {\n",
       "        vertical-align: top;\n",
       "    }\n",
       "\n",
       "    .dataframe thead th {\n",
       "        text-align: right;\n",
       "    }\n",
       "</style>\n",
       "<table border=\"1\" class=\"dataframe\">\n",
       "  <thead>\n",
       "    <tr style=\"text-align: right;\">\n",
       "      <th></th>\n",
       "      <th>car_name</th>\n",
       "      <th>car_type</th>\n",
       "    </tr>\n",
       "  </thead>\n",
       "  <tbody>\n",
       "    <tr>\n",
       "      <th>0</th>\n",
       "      <td>지프 레니게이드</td>\n",
       "      <td>05</td>\n",
       "    </tr>\n",
       "    <tr>\n",
       "      <th>1</th>\n",
       "      <td>더 뉴 모닝</td>\n",
       "      <td>01</td>\n",
       "    </tr>\n",
       "    <tr>\n",
       "      <th>2</th>\n",
       "      <td>카니발 4세대 9인</td>\n",
       "      <td>06</td>\n",
       "    </tr>\n",
       "    <tr>\n",
       "      <th>3</th>\n",
       "      <td>팰리세이드 8인</td>\n",
       "      <td>05</td>\n",
       "    </tr>\n",
       "    <tr>\n",
       "      <th>4</th>\n",
       "      <td>SM6</td>\n",
       "      <td>03</td>\n",
       "    </tr>\n",
       "    <tr>\n",
       "      <th>...</th>\n",
       "      <td>...</td>\n",
       "      <td>...</td>\n",
       "    </tr>\n",
       "    <tr>\n",
       "      <th>387</th>\n",
       "      <td>제네시스 EQ900</td>\n",
       "      <td>04</td>\n",
       "    </tr>\n",
       "    <tr>\n",
       "      <th>388</th>\n",
       "      <td>코란도 투리스모 9인</td>\n",
       "      <td>06</td>\n",
       "    </tr>\n",
       "    <tr>\n",
       "      <th>389</th>\n",
       "      <td>더 뉴 트랙스</td>\n",
       "      <td>05</td>\n",
       "    </tr>\n",
       "    <tr>\n",
       "      <th>390</th>\n",
       "      <td>YF 쏘나타</td>\n",
       "      <td>03</td>\n",
       "    </tr>\n",
       "    <tr>\n",
       "      <th>391</th>\n",
       "      <td>벤츠 C200d</td>\n",
       "      <td>03</td>\n",
       "    </tr>\n",
       "  </tbody>\n",
       "</table>\n",
       "<p>392 rows × 2 columns</p>\n",
       "</div>"
      ],
      "text/plain": [
       "        car_name car_type\n",
       "0       지프 레니게이드       05\n",
       "1         더 뉴 모닝       01\n",
       "2     카니발 4세대 9인       06\n",
       "3      팰리세이드 8인        05\n",
       "4            SM6       03\n",
       "..           ...      ...\n",
       "387   제네시스 EQ900       04\n",
       "388  코란도 투리스모 9인       06\n",
       "389      더 뉴 트랙스       05\n",
       "390       YF 쏘나타       03\n",
       "391     벤츠 C200d       03\n",
       "\n",
       "[392 rows x 2 columns]"
      ]
     },
     "execution_count": 6,
     "metadata": {},
     "output_type": "execute_result"
    }
   ],
   "source": [
    "jjps"
   ]
  },
  {
   "cell_type": "code",
   "execution_count": 8,
   "id": "cbeb7327-97c5-4827-a543-76aee53643d5",
   "metadata": {},
   "outputs": [],
   "source": [
    "# 원본 데이터 확인\n",
    "jjps.to_csv('jjps.csv', encoding='euc-kr')"
   ]
  },
  {
   "cell_type": "code",
   "execution_count": 96,
   "id": "b3a42093-b4b2-40b7-8a87-b8a355e8fb53",
   "metadata": {},
   "outputs": [],
   "source": [
    "# 차종 코드별로 통합\n",
    "jjps=jjps.groupby('car_type')['car_name'].apply(' '.join).to_frame().reset_index()"
   ]
  },
  {
   "cell_type": "code",
   "execution_count": 97,
   "id": "9b1af8f6-f230-4910-95c4-69dc7d2b82b9",
   "metadata": {},
   "outputs": [
    {
     "data": {
      "text/html": [
       "<div>\n",
       "<style scoped>\n",
       "    .dataframe tbody tr th:only-of-type {\n",
       "        vertical-align: middle;\n",
       "    }\n",
       "\n",
       "    .dataframe tbody tr th {\n",
       "        vertical-align: top;\n",
       "    }\n",
       "\n",
       "    .dataframe thead th {\n",
       "        text-align: right;\n",
       "    }\n",
       "</style>\n",
       "<table border=\"1\" class=\"dataframe\">\n",
       "  <thead>\n",
       "    <tr style=\"text-align: right;\">\n",
       "      <th></th>\n",
       "      <th>car_type</th>\n",
       "      <th>car_name</th>\n",
       "    </tr>\n",
       "  </thead>\n",
       "  <tbody>\n",
       "    <tr>\n",
       "      <th>0</th>\n",
       "      <td>01</td>\n",
       "      <td>더 뉴 모닝 캐스퍼 인스퍼레이션 더 뉴 스파크 올 뉴 모닝 캐스퍼 더 넥스트 스파크...</td>\n",
       "    </tr>\n",
       "    <tr>\n",
       "      <th>1</th>\n",
       "      <td>02</td>\n",
       "      <td>엑센트 볼트 EV 미니 쿠퍼 컨버터블 엑센트 CLIO 미니 쿠퍼 컨버터블S 엑센트 ...</td>\n",
       "    </tr>\n",
       "    <tr>\n",
       "      <th>2</th>\n",
       "      <td>03</td>\n",
       "      <td>SM6 더 뉴 말리부 쏘나타 뉴 라이즈 벤츠 E220D 카브리올레 테슬라모델3 LF...</td>\n",
       "    </tr>\n",
       "    <tr>\n",
       "      <th>3</th>\n",
       "      <td>04</td>\n",
       "      <td>그랜저 IG 포드 머스탱 컨버터블 더 뉴 그랜저IG 지프 랭글러 루비콘  제네시스 ...</td>\n",
       "    </tr>\n",
       "    <tr>\n",
       "      <th>4</th>\n",
       "      <td>05</td>\n",
       "      <td>지프 레니게이드 팰리세이드 8인  코나 쏘렌토 4세대 7인 더 뉴 쏘렌토 7인 쏘렌...</td>\n",
       "    </tr>\n",
       "    <tr>\n",
       "      <th>5</th>\n",
       "      <td>06</td>\n",
       "      <td>카니발 4세대 9인 더 뉴 카니발 11인 카니발 4세대 9인 스타리아 9인 올 뉴 ...</td>\n",
       "    </tr>\n",
       "    <tr>\n",
       "      <th>6</th>\n",
       "      <td>07</td>\n",
       "      <td>SM3 올 뉴 아반떼CN7 토요타 프리우스 미니 쿠퍼 컨버터블 SM3 ZE K3 미...</td>\n",
       "    </tr>\n",
       "    <tr>\n",
       "      <th>7</th>\n",
       "      <td>08</td>\n",
       "      <td>올 뉴 니로 EV 제네시스 GV60 BMW I4 코란도 이모션</td>\n",
       "    </tr>\n",
       "    <tr>\n",
       "      <th>8</th>\n",
       "      <td>09</td>\n",
       "      <td>미니 쿠퍼 컨버터블JCW 미니 쿠퍼 컨버터블 BMW 420i 컨버터블 미니 쿠퍼 컨...</td>\n",
       "    </tr>\n",
       "  </tbody>\n",
       "</table>\n",
       "</div>"
      ],
      "text/plain": [
       "  car_type                                           car_name\n",
       "0       01  더 뉴 모닝 캐스퍼 인스퍼레이션 더 뉴 스파크 올 뉴 모닝 캐스퍼 더 넥스트 스파크...\n",
       "1       02  엑센트 볼트 EV 미니 쿠퍼 컨버터블 엑센트 CLIO 미니 쿠퍼 컨버터블S 엑센트 ...\n",
       "2       03  SM6 더 뉴 말리부 쏘나타 뉴 라이즈 벤츠 E220D 카브리올레 테슬라모델3 LF...\n",
       "3       04  그랜저 IG 포드 머스탱 컨버터블 더 뉴 그랜저IG 지프 랭글러 루비콘  제네시스 ...\n",
       "4       05  지프 레니게이드 팰리세이드 8인  코나 쏘렌토 4세대 7인 더 뉴 쏘렌토 7인 쏘렌...\n",
       "5       06  카니발 4세대 9인 더 뉴 카니발 11인 카니발 4세대 9인 스타리아 9인 올 뉴 ...\n",
       "6       07  SM3 올 뉴 아반떼CN7 토요타 프리우스 미니 쿠퍼 컨버터블 SM3 ZE K3 미...\n",
       "7       08                 올 뉴 니로 EV 제네시스 GV60 BMW I4 코란도 이모션\n",
       "8       09  미니 쿠퍼 컨버터블JCW 미니 쿠퍼 컨버터블 BMW 420i 컨버터블 미니 쿠퍼 컨..."
      ]
     },
     "execution_count": 97,
     "metadata": {},
     "output_type": "execute_result"
    }
   ],
   "source": [
    "jjps"
   ]
  },
  {
   "cell_type": "code",
   "execution_count": 98,
   "id": "28289afb-4f50-4059-97db-28410f336eef",
   "metadata": {},
   "outputs": [],
   "source": [
    "#차종별 데이터 확인\n",
    "#''.join((jjps['car_name'][0]))"
   ]
  },
  {
   "cell_type": "code",
   "execution_count": 99,
   "id": "ba3457f9-008f-44a2-a3cf-58673207f0a4",
   "metadata": {},
   "outputs": [],
   "source": [
    "#불용어 정리 for 제주패스 차종\n",
    "stop_words=\"더 뉴 넥스트 인스퍼레이션 올 어반 차박 캠핑 EV 컨버터블 컨버터블S E208 라이즈 카브리올레 LF DN8 1세대 3세대 1.6 터보 8세대 2세대 \\\n",
    "            4세대 4인 5인 6인 7인 8인 9인 11인 12인 15인 TM 하이리무진 스포츠 2.0 718 250 마스터 티 R AWD 4륜 2세대 3세대 휘 LPG 휘발유 \\\n",
    "            가솔린 경유 프리미엄 플래티넘 올뉴 더뉴 LE 19 2015 2016 2017 2018 2019 2020 2021 2022 만26세 9인승 AWD │ 2500 초이스 AT 2 \\\n",
    "            3800 The II AD G 147호1005 │105허1117 L D 24호2412 20 디젤2WD THE SUV 22 디젤 디럭스 New 1600 VGT 디럭스 105하9373\\\n",
    "            713하2001 138하1356 41하8080 63호0394 7인20 109호1363 렌터카 모던 30 스탠다드 202021 2WD 138하1195 43호0974 2111 NEW ALL 22 14 T 25 All new 프리미어 \\\n",
    "            20182020 엠디 201618 16 20162021 202122 3세대0 30 55허8203 162호1003 201718 2018더뉴 엘피지 1821 모자이카 긴출 21년휘발유 19년 1719 GTe 2세대2022년 \\\n",
    "            LPG2021 7인승 16T 7인승경 컨버터블자차 21년 1920LPG 1920년 럭셔리휘 1819 1819휘발유 2021년 1819경유 19년휘발유 20년휘발유 22년 휘발유 2021년휘발유 5새대가솔린2WD \\\n",
    "            19년LPG 아이소픽스 썬루프 Lpi 롱 레인지 퍼포먼스 4도어 롱레인지 C GLE 3008 200 GLB 5도어 제타 이모션 5세대 플레티넘 저상 휠체어 슬로프 투어 라운지 수동 마스터 네오 2008 MASTER\""
   ]
  },
  {
   "cell_type": "code",
   "execution_count": 100,
   "id": "7ac2cd68-0f8a-4ffc-8815-8cc9f24655cd",
   "metadata": {},
   "outputs": [],
   "source": [
    "#수정이 필요한 단어 정리\n",
    "revise_word=\"아반떼ad 아반테AD 그랜져 그랜저 PEUGEOT 산타페 싼타페 시트로앵 시트로엥\""
   ]
  },
  {
   "cell_type": "code",
   "execution_count": 101,
   "id": "6589cc7d-fa95-436a-aa23-959a3391e07b",
   "metadata": {},
   "outputs": [
    {
     "name": "stdout",
     "output_type": "stream",
     "text": [
      "불용어 제거 전 : ['더', '뉴', '모닝', '캐스퍼', '인스퍼레이션', '더', '뉴', '스파크', '올', '뉴', '모닝', '캐스퍼', '더', '넥스트', '스파크', '더', '뉴', '레이', '레이', '더', '뉴', '모닝', '모닝', '모닝', '어반', '올', '뉴', '모닝', '올', '뉴', '모닝', '더', '뉴', '레이', '더', '뉴', '레이', '더', '뉴', '스파크', '모닝', '어반', '차박', '캠핑', '레이', '스파크']\n",
      "불용어 제거 후 : ['모닝', '캐스퍼', '스파크', '모닝', '캐스퍼', '스파크', '레이', '레이', '모닝', '모닝', '모닝', '모닝', '모닝', '레이', '레이', '스파크', '모닝', '레이', '스파크']\n"
     ]
    }
   ],
   "source": [
    "# 불용어 제거\n",
    "stop_words = set(stop_words.split(' '))\n",
    "word_tokens = ''.join((jjps['car_name'][0])).split()\n",
    "\n",
    "result = [word for word in word_tokens if not word in stop_words]\n",
    "\n",
    "print('불용어 제거 전 :',word_tokens) \n",
    "print('불용어 제거 후 :',result)"
   ]
  },
  {
   "cell_type": "code",
   "execution_count": 102,
   "id": "25cdd567-43e5-4a30-99f4-40c7ccb37bc8",
   "metadata": {},
   "outputs": [
    {
     "name": "stderr",
     "output_type": "stream",
     "text": [
      "100%|██████████| 9/9 [00:00<00:00, 2402.85it/s]\n"
     ]
    }
   ],
   "source": [
    "for i in tqdm(range(len(jjps))):\n",
    "    word_tokens = ''.join((jjps['car_name'][i])).split()\n",
    "    result = [word for word in word_tokens if not word in stop_words]\n",
    "    jjps['car_name'][i]=result"
   ]
  },
  {
   "cell_type": "code",
   "execution_count": 103,
   "id": "f1d0f059-90ed-4a68-97c2-d194bc3e7343",
   "metadata": {},
   "outputs": [
    {
     "data": {
      "text/html": [
       "<div>\n",
       "<style scoped>\n",
       "    .dataframe tbody tr th:only-of-type {\n",
       "        vertical-align: middle;\n",
       "    }\n",
       "\n",
       "    .dataframe tbody tr th {\n",
       "        vertical-align: top;\n",
       "    }\n",
       "\n",
       "    .dataframe thead th {\n",
       "        text-align: right;\n",
       "    }\n",
       "</style>\n",
       "<table border=\"1\" class=\"dataframe\">\n",
       "  <thead>\n",
       "    <tr style=\"text-align: right;\">\n",
       "      <th></th>\n",
       "      <th>car_type</th>\n",
       "      <th>car_name</th>\n",
       "    </tr>\n",
       "  </thead>\n",
       "  <tbody>\n",
       "    <tr>\n",
       "      <th>0</th>\n",
       "      <td>01</td>\n",
       "      <td>[모닝, 캐스퍼, 스파크, 모닝, 캐스퍼, 스파크, 레이, 레이, 모닝, 모닝, 모...</td>\n",
       "    </tr>\n",
       "    <tr>\n",
       "      <th>1</th>\n",
       "      <td>02</td>\n",
       "      <td>[엑센트, 볼트, 미니, 쿠퍼, 엑센트, CLIO, 미니, 쿠퍼, 엑센트, 푸조]</td>\n",
       "    </tr>\n",
       "    <tr>\n",
       "      <th>2</th>\n",
       "      <td>03</td>\n",
       "      <td>[SM6, 말리부, 쏘나타, 벤츠, E220D, 테슬라모델3, 쏘나타, 쏘나타DN8...</td>\n",
       "    </tr>\n",
       "    <tr>\n",
       "      <th>3</th>\n",
       "      <td>04</td>\n",
       "      <td>[그랜저, IG, 포드, 머스탱, 그랜저IG, 지프, 랭글러, 루비콘, 제네시스, ...</td>\n",
       "    </tr>\n",
       "    <tr>\n",
       "      <th>4</th>\n",
       "      <td>05</td>\n",
       "      <td>[지프, 레니게이드, 팰리세이드, 코나, 쏘렌토, 쏘렌토, 쏘렌토, 스포티지, 쏘렌...</td>\n",
       "    </tr>\n",
       "    <tr>\n",
       "      <th>5</th>\n",
       "      <td>06</td>\n",
       "      <td>[카니발, 카니발, 카니발, 스타리아, 카니발, 카니발, 리무진, 스타리아, 그랜드...</td>\n",
       "    </tr>\n",
       "    <tr>\n",
       "      <th>6</th>\n",
       "      <td>07</td>\n",
       "      <td>[SM3, 아반떼CN7, 토요타, 프리우스, 미니, 쿠퍼, SM3, ZE, K3, ...</td>\n",
       "    </tr>\n",
       "    <tr>\n",
       "      <th>7</th>\n",
       "      <td>08</td>\n",
       "      <td>[니로, 제네시스, GV60, BMW, I4, 코란도]</td>\n",
       "    </tr>\n",
       "    <tr>\n",
       "      <th>8</th>\n",
       "      <td>09</td>\n",
       "      <td>[미니, 쿠퍼, 컨버터블JCW, 미니, 쿠퍼, BMW, 420i, 미니, 쿠퍼, 컨...</td>\n",
       "    </tr>\n",
       "  </tbody>\n",
       "</table>\n",
       "</div>"
      ],
      "text/plain": [
       "  car_type                                           car_name\n",
       "0       01  [모닝, 캐스퍼, 스파크, 모닝, 캐스퍼, 스파크, 레이, 레이, 모닝, 모닝, 모...\n",
       "1       02      [엑센트, 볼트, 미니, 쿠퍼, 엑센트, CLIO, 미니, 쿠퍼, 엑센트, 푸조]\n",
       "2       03  [SM6, 말리부, 쏘나타, 벤츠, E220D, 테슬라모델3, 쏘나타, 쏘나타DN8...\n",
       "3       04  [그랜저, IG, 포드, 머스탱, 그랜저IG, 지프, 랭글러, 루비콘, 제네시스, ...\n",
       "4       05  [지프, 레니게이드, 팰리세이드, 코나, 쏘렌토, 쏘렌토, 쏘렌토, 스포티지, 쏘렌...\n",
       "5       06  [카니발, 카니발, 카니발, 스타리아, 카니발, 카니발, 리무진, 스타리아, 그랜드...\n",
       "6       07  [SM3, 아반떼CN7, 토요타, 프리우스, 미니, 쿠퍼, SM3, ZE, K3, ...\n",
       "7       08                     [니로, 제네시스, GV60, BMW, I4, 코란도]\n",
       "8       09  [미니, 쿠퍼, 컨버터블JCW, 미니, 쿠퍼, BMW, 420i, 미니, 쿠퍼, 컨..."
      ]
     },
     "execution_count": 103,
     "metadata": {},
     "output_type": "execute_result"
    }
   ],
   "source": [
    "jjps"
   ]
  },
  {
   "cell_type": "code",
   "execution_count": 104,
   "id": "b3843f61-f702-41e8-8098-2ec74da2573a",
   "metadata": {},
   "outputs": [],
   "source": [
    "#중복제거 컬럼 만들고\n",
    "jjps['car_noduplicate']=0"
   ]
  },
  {
   "cell_type": "code",
   "execution_count": 105,
   "id": "49e4cb63-50ba-4d22-9801-5c55f1ebc68b",
   "metadata": {},
   "outputs": [
    {
     "data": {
      "text/html": [
       "<div>\n",
       "<style scoped>\n",
       "    .dataframe tbody tr th:only-of-type {\n",
       "        vertical-align: middle;\n",
       "    }\n",
       "\n",
       "    .dataframe tbody tr th {\n",
       "        vertical-align: top;\n",
       "    }\n",
       "\n",
       "    .dataframe thead th {\n",
       "        text-align: right;\n",
       "    }\n",
       "</style>\n",
       "<table border=\"1\" class=\"dataframe\">\n",
       "  <thead>\n",
       "    <tr style=\"text-align: right;\">\n",
       "      <th></th>\n",
       "      <th>car_type</th>\n",
       "      <th>car_name</th>\n",
       "      <th>car_noduplicate</th>\n",
       "    </tr>\n",
       "  </thead>\n",
       "  <tbody>\n",
       "    <tr>\n",
       "      <th>0</th>\n",
       "      <td>01</td>\n",
       "      <td>[모닝, 캐스퍼, 스파크, 모닝, 캐스퍼, 스파크, 레이, 레이, 모닝, 모닝, 모...</td>\n",
       "      <td>0</td>\n",
       "    </tr>\n",
       "    <tr>\n",
       "      <th>1</th>\n",
       "      <td>02</td>\n",
       "      <td>[엑센트, 볼트, 미니, 쿠퍼, 엑센트, CLIO, 미니, 쿠퍼, 엑센트, 푸조]</td>\n",
       "      <td>0</td>\n",
       "    </tr>\n",
       "    <tr>\n",
       "      <th>2</th>\n",
       "      <td>03</td>\n",
       "      <td>[SM6, 말리부, 쏘나타, 벤츠, E220D, 테슬라모델3, 쏘나타, 쏘나타DN8...</td>\n",
       "      <td>0</td>\n",
       "    </tr>\n",
       "    <tr>\n",
       "      <th>3</th>\n",
       "      <td>04</td>\n",
       "      <td>[그랜저, IG, 포드, 머스탱, 그랜저IG, 지프, 랭글러, 루비콘, 제네시스, ...</td>\n",
       "      <td>0</td>\n",
       "    </tr>\n",
       "    <tr>\n",
       "      <th>4</th>\n",
       "      <td>05</td>\n",
       "      <td>[지프, 레니게이드, 팰리세이드, 코나, 쏘렌토, 쏘렌토, 쏘렌토, 스포티지, 쏘렌...</td>\n",
       "      <td>0</td>\n",
       "    </tr>\n",
       "    <tr>\n",
       "      <th>5</th>\n",
       "      <td>06</td>\n",
       "      <td>[카니발, 카니발, 카니발, 스타리아, 카니발, 카니발, 리무진, 스타리아, 그랜드...</td>\n",
       "      <td>0</td>\n",
       "    </tr>\n",
       "    <tr>\n",
       "      <th>6</th>\n",
       "      <td>07</td>\n",
       "      <td>[SM3, 아반떼CN7, 토요타, 프리우스, 미니, 쿠퍼, SM3, ZE, K3, ...</td>\n",
       "      <td>0</td>\n",
       "    </tr>\n",
       "    <tr>\n",
       "      <th>7</th>\n",
       "      <td>08</td>\n",
       "      <td>[니로, 제네시스, GV60, BMW, I4, 코란도]</td>\n",
       "      <td>0</td>\n",
       "    </tr>\n",
       "    <tr>\n",
       "      <th>8</th>\n",
       "      <td>09</td>\n",
       "      <td>[미니, 쿠퍼, 컨버터블JCW, 미니, 쿠퍼, BMW, 420i, 미니, 쿠퍼, 컨...</td>\n",
       "      <td>0</td>\n",
       "    </tr>\n",
       "  </tbody>\n",
       "</table>\n",
       "</div>"
      ],
      "text/plain": [
       "  car_type                                           car_name  car_noduplicate\n",
       "0       01  [모닝, 캐스퍼, 스파크, 모닝, 캐스퍼, 스파크, 레이, 레이, 모닝, 모닝, 모...                0\n",
       "1       02      [엑센트, 볼트, 미니, 쿠퍼, 엑센트, CLIO, 미니, 쿠퍼, 엑센트, 푸조]                0\n",
       "2       03  [SM6, 말리부, 쏘나타, 벤츠, E220D, 테슬라모델3, 쏘나타, 쏘나타DN8...                0\n",
       "3       04  [그랜저, IG, 포드, 머스탱, 그랜저IG, 지프, 랭글러, 루비콘, 제네시스, ...                0\n",
       "4       05  [지프, 레니게이드, 팰리세이드, 코나, 쏘렌토, 쏘렌토, 쏘렌토, 스포티지, 쏘렌...                0\n",
       "5       06  [카니발, 카니발, 카니발, 스타리아, 카니발, 카니발, 리무진, 스타리아, 그랜드...                0\n",
       "6       07  [SM3, 아반떼CN7, 토요타, 프리우스, 미니, 쿠퍼, SM3, ZE, K3, ...                0\n",
       "7       08                     [니로, 제네시스, GV60, BMW, I4, 코란도]                0\n",
       "8       09  [미니, 쿠퍼, 컨버터블JCW, 미니, 쿠퍼, BMW, 420i, 미니, 쿠퍼, 컨...                0"
      ]
     },
     "execution_count": 105,
     "metadata": {},
     "output_type": "execute_result"
    }
   ],
   "source": [
    "jjps"
   ]
  },
  {
   "cell_type": "code",
   "execution_count": 106,
   "id": "2d6ee5be-b95c-47a9-8ddb-7ce09ed856ed",
   "metadata": {},
   "outputs": [
    {
     "name": "stderr",
     "output_type": "stream",
     "text": [
      "/opt/conda/lib/python3.7/site-packages/ipykernel_launcher.py:7: SettingWithCopyWarning: \n",
      "A value is trying to be set on a copy of a slice from a DataFrame\n",
      "\n",
      "See the caveats in the documentation: https://pandas.pydata.org/pandas-docs/stable/user_guide/indexing.html#returning-a-view-versus-a-copy\n",
      "  import sys\n",
      "/opt/conda/lib/python3.7/site-packages/pandas/core/indexing.py:1732: SettingWithCopyWarning: \n",
      "A value is trying to be set on a copy of a slice from a DataFrame\n",
      "\n",
      "See the caveats in the documentation: https://pandas.pydata.org/pandas-docs/stable/user_guide/indexing.html#returning-a-view-versus-a-copy\n",
      "  self._setitem_single_block(indexer, value, name)\n"
     ]
    }
   ],
   "source": [
    "#중복제거 루프\n",
    "for r in range(len(jjps)):\n",
    "    a=[]\n",
    "    for value in jjps['car_name'][r]:\n",
    "        if value not in a:\n",
    "            a.append(value)\n",
    "            jjps['car_noduplicate'][r]=a"
   ]
  },
  {
   "cell_type": "code",
   "execution_count": 83,
   "id": "29852c6a-a4ca-40f7-8cba-1c2b13bfe934",
   "metadata": {},
   "outputs": [
    {
     "data": {
      "text/html": [
       "<div>\n",
       "<style scoped>\n",
       "    .dataframe tbody tr th:only-of-type {\n",
       "        vertical-align: middle;\n",
       "    }\n",
       "\n",
       "    .dataframe tbody tr th {\n",
       "        vertical-align: top;\n",
       "    }\n",
       "\n",
       "    .dataframe thead th {\n",
       "        text-align: right;\n",
       "    }\n",
       "</style>\n",
       "<table border=\"1\" class=\"dataframe\">\n",
       "  <thead>\n",
       "    <tr style=\"text-align: right;\">\n",
       "      <th></th>\n",
       "      <th>car_type</th>\n",
       "      <th>car_name</th>\n",
       "      <th>car_noduplicate</th>\n",
       "    </tr>\n",
       "  </thead>\n",
       "  <tbody>\n",
       "    <tr>\n",
       "      <th>0</th>\n",
       "      <td>01</td>\n",
       "      <td>[모닝, 캐스퍼, 스파크, 모닝, 캐스퍼, 스파크, 레이, 레이, 모닝, 모닝, 모...</td>\n",
       "      <td>[모닝, 캐스퍼, 스파크, 레이]</td>\n",
       "    </tr>\n",
       "    <tr>\n",
       "      <th>1</th>\n",
       "      <td>02</td>\n",
       "      <td>[엑센트, 볼트, 미니, 쿠퍼, 엑센트, CLIO, 미니, 쿠퍼, 엑센트, 푸조]</td>\n",
       "      <td>[엑센트, 볼트, 미니, 쿠퍼, CLIO, 푸조]</td>\n",
       "    </tr>\n",
       "    <tr>\n",
       "      <th>2</th>\n",
       "      <td>03</td>\n",
       "      <td>[SM6, 말리부, 쏘나타, 벤츠, E220D, 테슬라모델3, 쏘나타, 쏘나타DN8...</td>\n",
       "      <td>[SM6, 말리부, 쏘나타, 벤츠, E220D, 테슬라모델3, 쏘나타DN8, BMW...</td>\n",
       "    </tr>\n",
       "    <tr>\n",
       "      <th>3</th>\n",
       "      <td>04</td>\n",
       "      <td>[그랜저, IG, 포드, 머스탱, 그랜저IG, 지프, 랭글러, 루비콘, 제네시스, ...</td>\n",
       "      <td>[그랜저, IG, 포드, 머스탱, 그랜저IG, 지프, 랭글러, 루비콘, 제네시스, ...</td>\n",
       "    </tr>\n",
       "    <tr>\n",
       "      <th>4</th>\n",
       "      <td>05</td>\n",
       "      <td>[지프, 레니게이드, 팰리세이드, 코나, 쏘렌토, 쏘렌토, 쏘렌토, 스포티지, 쏘렌...</td>\n",
       "      <td>[지프, 레니게이드, 팰리세이드, 코나, 쏘렌토, 스포티지, 볼보, XC40, 싼타...</td>\n",
       "    </tr>\n",
       "    <tr>\n",
       "      <th>5</th>\n",
       "      <td>06</td>\n",
       "      <td>[카니발, 카니발, 카니발, 스타리아, 카니발, 카니발, 리무진, 스타리아, 그랜드...</td>\n",
       "      <td>[카니발, 스타리아, 리무진, 그랜드, 스타렉스, 쏠라티, 벤츠, 스프린터, 뉴카운...</td>\n",
       "    </tr>\n",
       "    <tr>\n",
       "      <th>6</th>\n",
       "      <td>07</td>\n",
       "      <td>[SM3, 아반떼CN7, 토요타, 프리우스, 미니, 쿠퍼, SM3, ZE, K3, ...</td>\n",
       "      <td>[SM3, 아반떼CN7, 토요타, 프리우스, 미니, 쿠퍼, ZE, K3, i30, ...</td>\n",
       "    </tr>\n",
       "    <tr>\n",
       "      <th>7</th>\n",
       "      <td>08</td>\n",
       "      <td>[니로, 제네시스, GV60, BMW, I4, 코란도]</td>\n",
       "      <td>[니로, 제네시스, GV60, BMW, I4, 코란도]</td>\n",
       "    </tr>\n",
       "    <tr>\n",
       "      <th>8</th>\n",
       "      <td>09</td>\n",
       "      <td>[미니, 쿠퍼, 컨버터블JCW, 미니, 쿠퍼, BMW, 420i, 미니, 쿠퍼, 컨...</td>\n",
       "      <td>[미니, 쿠퍼, 컨버터블JCW, BMW, 420i, 컨트리맨, 에스컬레이드, 포르쉐...</td>\n",
       "    </tr>\n",
       "  </tbody>\n",
       "</table>\n",
       "</div>"
      ],
      "text/plain": [
       "  car_type                                           car_name  \\\n",
       "0       01  [모닝, 캐스퍼, 스파크, 모닝, 캐스퍼, 스파크, 레이, 레이, 모닝, 모닝, 모...   \n",
       "1       02      [엑센트, 볼트, 미니, 쿠퍼, 엑센트, CLIO, 미니, 쿠퍼, 엑센트, 푸조]   \n",
       "2       03  [SM6, 말리부, 쏘나타, 벤츠, E220D, 테슬라모델3, 쏘나타, 쏘나타DN8...   \n",
       "3       04  [그랜저, IG, 포드, 머스탱, 그랜저IG, 지프, 랭글러, 루비콘, 제네시스, ...   \n",
       "4       05  [지프, 레니게이드, 팰리세이드, 코나, 쏘렌토, 쏘렌토, 쏘렌토, 스포티지, 쏘렌...   \n",
       "5       06  [카니발, 카니발, 카니발, 스타리아, 카니발, 카니발, 리무진, 스타리아, 그랜드...   \n",
       "6       07  [SM3, 아반떼CN7, 토요타, 프리우스, 미니, 쿠퍼, SM3, ZE, K3, ...   \n",
       "7       08                     [니로, 제네시스, GV60, BMW, I4, 코란도]   \n",
       "8       09  [미니, 쿠퍼, 컨버터블JCW, 미니, 쿠퍼, BMW, 420i, 미니, 쿠퍼, 컨...   \n",
       "\n",
       "                                     car_noduplicate  \n",
       "0                                 [모닝, 캐스퍼, 스파크, 레이]  \n",
       "1                        [엑센트, 볼트, 미니, 쿠퍼, CLIO, 푸조]  \n",
       "2  [SM6, 말리부, 쏘나타, 벤츠, E220D, 테슬라모델3, 쏘나타DN8, BMW...  \n",
       "3  [그랜저, IG, 포드, 머스탱, 그랜저IG, 지프, 랭글러, 루비콘, 제네시스, ...  \n",
       "4  [지프, 레니게이드, 팰리세이드, 코나, 쏘렌토, 스포티지, 볼보, XC40, 싼타...  \n",
       "5  [카니발, 스타리아, 리무진, 그랜드, 스타렉스, 쏠라티, 벤츠, 스프린터, 뉴카운...  \n",
       "6  [SM3, 아반떼CN7, 토요타, 프리우스, 미니, 쿠퍼, ZE, K3, i30, ...  \n",
       "7                     [니로, 제네시스, GV60, BMW, I4, 코란도]  \n",
       "8  [미니, 쿠퍼, 컨버터블JCW, BMW, 420i, 컨트리맨, 에스컬레이드, 포르쉐...  "
      ]
     },
     "execution_count": 83,
     "metadata": {},
     "output_type": "execute_result"
    }
   ],
   "source": [
    "jjps"
   ]
  },
  {
   "cell_type": "code",
   "execution_count": 84,
   "id": "67338b95-de8f-411c-9adf-8149896d7b1f",
   "metadata": {},
   "outputs": [],
   "source": [
    "#필요한 컬럼만\n",
    "jjps=jjps[['car_type','car_noduplicate']]"
   ]
  },
  {
   "cell_type": "code",
   "execution_count": 85,
   "id": "ed31e8e2-07cc-44e9-a1a2-e539c5508e2c",
   "metadata": {},
   "outputs": [],
   "source": [
    "#대문자로 바꾸기위한 컬럼 생성\n",
    "jjps['car_name']=0"
   ]
  },
  {
   "cell_type": "code",
   "execution_count": 86,
   "id": "70f75d62-54be-494e-aaba-5e9bb1c7dea4",
   "metadata": {
    "tags": []
   },
   "outputs": [
    {
     "name": "stderr",
     "output_type": "stream",
     "text": [
      "/opt/conda/lib/python3.7/site-packages/ipykernel_launcher.py:6: SettingWithCopyWarning: \n",
      "A value is trying to be set on a copy of a slice from a DataFrame\n",
      "\n",
      "See the caveats in the documentation: https://pandas.pydata.org/pandas-docs/stable/user_guide/indexing.html#returning-a-view-versus-a-copy\n",
      "  \n",
      "/opt/conda/lib/python3.7/site-packages/pandas/core/indexing.py:1732: SettingWithCopyWarning: \n",
      "A value is trying to be set on a copy of a slice from a DataFrame\n",
      "\n",
      "See the caveats in the documentation: https://pandas.pydata.org/pandas-docs/stable/user_guide/indexing.html#returning-a-view-versus-a-copy\n",
      "  self._setitem_single_block(indexer, value, name)\n"
     ]
    }
   ],
   "source": [
    "#소문자를 대문자로 변환\n",
    "for k in range(len(jjps)):\n",
    "    upper=[]\n",
    "    for l in jjps['car_noduplicate'][k]:\n",
    "        upper.append(l.upper())\n",
    "        jjps['car_name'][k]=upper"
   ]
  },
  {
   "cell_type": "code",
   "execution_count": 87,
   "id": "87a42e6e-f12e-4e9f-a0cc-fb9911b93fbb",
   "metadata": {},
   "outputs": [],
   "source": [
    "jjps=jjps[['car_type','car_name']]"
   ]
  },
  {
   "cell_type": "code",
   "execution_count": 88,
   "id": "e0935e25-b00a-400f-839a-64bd35abeb2c",
   "metadata": {},
   "outputs": [],
   "source": [
    "jjps.to_csv('jjps_final.csv', encoding='euc-kr')"
   ]
  },
  {
   "cell_type": "code",
   "execution_count": null,
   "id": "01abb759-89ce-481b-abdc-248a977bb477",
   "metadata": {},
   "outputs": [],
   "source": []
  },
  {
   "cell_type": "code",
   "execution_count": null,
   "id": "bcda6494-8b3e-45ee-a332-b220e71a5e4e",
   "metadata": {},
   "outputs": [],
   "source": []
  },
  {
   "cell_type": "code",
   "execution_count": null,
   "id": "5f929c0f-34e9-41e3-8d43-f3a943fba7b1",
   "metadata": {},
   "outputs": [],
   "source": []
  },
  {
   "cell_type": "code",
   "execution_count": null,
   "id": "2094cd9c-454a-4cd5-ab0e-ce6952c8aaeb",
   "metadata": {},
   "outputs": [],
   "source": []
  },
  {
   "cell_type": "code",
   "execution_count": null,
   "id": "175d5377-f6ca-4bde-878f-6bdfd9452dfe",
   "metadata": {},
   "outputs": [],
   "source": []
  },
  {
   "cell_type": "code",
   "execution_count": null,
   "id": "56bd8a5e-03a8-41a0-afc6-8280643a5245",
   "metadata": {},
   "outputs": [],
   "source": []
  },
  {
   "cell_type": "code",
   "execution_count": null,
   "id": "c3f30747-20f4-4396-90af-cf32af742990",
   "metadata": {},
   "outputs": [],
   "source": []
  },
  {
   "cell_type": "code",
   "execution_count": null,
   "id": "2faa61c5-ecf5-45c3-98e7-d625a1636b75",
   "metadata": {},
   "outputs": [],
   "source": []
  },
  {
   "cell_type": "code",
   "execution_count": null,
   "id": "e7e983ed-ba93-4d83-bb47-657fb5e0324d",
   "metadata": {},
   "outputs": [],
   "source": []
  },
  {
   "cell_type": "markdown",
   "id": "9e04137c-fff6-4099-af9c-ffdd8677c186",
   "metadata": {
    "tags": []
   },
   "source": [
    "### ERP 차종 확인"
   ]
  },
  {
   "cell_type": "code",
   "execution_count": 21,
   "id": "fadade34-a584-4515-825e-8d69dbf7dbff",
   "metadata": {},
   "outputs": [],
   "source": [
    "query_erp= \"\"\"\n",
    "SELECT\n",
    "  model_name\n",
    "FROM \n",
    "  `charged-genre-350106.bcml.bcml_erp`\n",
    "\"\"\""
   ]
  },
  {
   "cell_type": "code",
   "execution_count": 22,
   "id": "f2c76a38-81f5-42cd-b96f-c44df7100edc",
   "metadata": {},
   "outputs": [
    {
     "name": "stderr",
     "output_type": "stream",
     "text": [
      "  0%|          | 0/1203 [00:00<?, ?it/s]/opt/conda/lib/python3.7/site-packages/ipykernel_launcher.py:12: SettingWithCopyWarning: \n",
      "A value is trying to be set on a copy of a slice from a DataFrame\n",
      "\n",
      "See the caveats in the documentation: https://pandas.pydata.org/pandas-docs/stable/user_guide/indexing.html#returning-a-view-versus-a-copy\n",
      "  if sys.path[0] == \"\":\n",
      "/opt/conda/lib/python3.7/site-packages/ipykernel_launcher.py:13: SettingWithCopyWarning: \n",
      "A value is trying to be set on a copy of a slice from a DataFrame\n",
      "\n",
      "See the caveats in the documentation: https://pandas.pydata.org/pandas-docs/stable/user_guide/indexing.html#returning-a-view-versus-a-copy\n",
      "  del sys.path[0]\n",
      "100%|██████████| 1203/1203 [00:00<00:00, 1796.54it/s]\n"
     ]
    }
   ],
   "source": [
    "# 데이터 로드\n",
    "erp = bqclient.query(query_erp).to_dataframe()\n",
    "\n",
    "# 중복 데이터 제거\n",
    "erp=erp.drop_duplicates(['model_name'])\n",
    "\n",
    "# 리인덱싱(중간에 빠진 인덱스넘버 제거)\n",
    "erp=erp.reset_index()\n",
    "\n",
    "# 특수문자 및 괄호 및 괄호 안 문자 제거\n",
    "for i in tqdm(range(len(erp))):\n",
    "    erp['model_name'][i]=re.sub('[-=+,#/\\?:^.@*\\\"※~ㆍ!』‘|\\(\\)\\[\\]`\\'…》\\”\\“\\’·]','',erp['model_name'][i])\n",
    "    erp['model_name'][i]=re.sub('\\(.*\\)|\\s-\\s.*','',erp['model_name'][i])\n",
    "\n",
    "# 필요한 컬럼 선택\n",
    "erp=erp[['model_name']]\n",
    "erp\n",
    "\n",
    "# (jjps.iloc[0].to_dict()['car_name']).split(',')\n",
    "# jjps_dic=jjps.iloc[0].to_dict()\n",
    "# jjps_dic\n",
    "\n",
    "# car_type을 입력할 컬럼 생성\n",
    "erp['car_type']='00'\n",
    "\n"
   ]
  },
  {
   "cell_type": "code",
   "execution_count": 23,
   "id": "c0c55734-2830-42a0-ba95-c47b836e614c",
   "metadata": {},
   "outputs": [
    {
     "data": {
      "text/html": [
       "<div>\n",
       "<style scoped>\n",
       "    .dataframe tbody tr th:only-of-type {\n",
       "        vertical-align: middle;\n",
       "    }\n",
       "\n",
       "    .dataframe tbody tr th {\n",
       "        vertical-align: top;\n",
       "    }\n",
       "\n",
       "    .dataframe thead th {\n",
       "        text-align: right;\n",
       "    }\n",
       "</style>\n",
       "<table border=\"1\" class=\"dataframe\">\n",
       "  <thead>\n",
       "    <tr style=\"text-align: right;\">\n",
       "      <th></th>\n",
       "      <th>model_name</th>\n",
       "      <th>car_type</th>\n",
       "    </tr>\n",
       "  </thead>\n",
       "  <tbody>\n",
       "    <tr>\n",
       "      <th>0</th>\n",
       "      <td>K3</td>\n",
       "      <td>00</td>\n",
       "    </tr>\n",
       "    <tr>\n",
       "      <th>1</th>\n",
       "      <td>K5</td>\n",
       "      <td>00</td>\n",
       "    </tr>\n",
       "    <tr>\n",
       "      <th>2</th>\n",
       "      <td>k3</td>\n",
       "      <td>00</td>\n",
       "    </tr>\n",
       "    <tr>\n",
       "      <th>3</th>\n",
       "      <td>SM3</td>\n",
       "      <td>00</td>\n",
       "    </tr>\n",
       "    <tr>\n",
       "      <th>4</th>\n",
       "      <td>19K5</td>\n",
       "      <td>00</td>\n",
       "    </tr>\n",
       "    <tr>\n",
       "      <th>...</th>\n",
       "      <td>...</td>\n",
       "      <td>...</td>\n",
       "    </tr>\n",
       "    <tr>\n",
       "      <th>1198</th>\n",
       "      <td>쏘나타 뉴 라이즈 L 2018 │ 24호2412</td>\n",
       "      <td>00</td>\n",
       "    </tr>\n",
       "    <tr>\n",
       "      <th>1199</th>\n",
       "      <td>쏘렌토 더 마스터 D 2019 │105허1117</td>\n",
       "      <td>00</td>\n",
       "    </tr>\n",
       "    <tr>\n",
       "      <th>1200</th>\n",
       "      <td>아반떼 AD 스포츠 G 2018 │ 147호1005</td>\n",
       "      <td>00</td>\n",
       "    </tr>\n",
       "    <tr>\n",
       "      <th>1201</th>\n",
       "      <td>2020 The K9 3800 플래티넘 II AT 휘발유 2020</td>\n",
       "      <td>00</td>\n",
       "    </tr>\n",
       "    <tr>\n",
       "      <th>1202</th>\n",
       "      <td>더 뉴 그랜져 2500 프리미엄 초이스 AT 휘발유 2</td>\n",
       "      <td>00</td>\n",
       "    </tr>\n",
       "  </tbody>\n",
       "</table>\n",
       "<p>1203 rows × 2 columns</p>\n",
       "</div>"
      ],
      "text/plain": [
       "                                model_name car_type\n",
       "0                                       K3       00\n",
       "1                                       K5       00\n",
       "2                                       k3       00\n",
       "3                                      SM3       00\n",
       "4                                     19K5       00\n",
       "...                                    ...      ...\n",
       "1198            쏘나타 뉴 라이즈 L 2018 │ 24호2412       00\n",
       "1199            쏘렌토 더 마스터 D 2019 │105허1117       00\n",
       "1200          아반떼 AD 스포츠 G 2018 │ 147호1005       00\n",
       "1201  2020 The K9 3800 플래티넘 II AT 휘발유 2020       00\n",
       "1202        더 뉴 그랜져 2500 프리미엄 초이스 AT 휘발유 2       00\n",
       "\n",
       "[1203 rows x 2 columns]"
      ]
     },
     "execution_count": 23,
     "metadata": {},
     "output_type": "execute_result"
    }
   ],
   "source": [
    "erp"
   ]
  },
  {
   "cell_type": "code",
   "execution_count": 24,
   "id": "c2b067a6-d191-4681-ba0c-efa9f31ac40d",
   "metadata": {},
   "outputs": [
    {
     "name": "stderr",
     "output_type": "stream",
     "text": [
      "  0%|          | 0/1203 [00:00<?, ?it/s]\n"
     ]
    },
    {
     "ename": "NameError",
     "evalue": "name 'stop_words' is not defined",
     "output_type": "error",
     "traceback": [
      "\u001b[0;31m---------------------------------------------------------------------------\u001b[0m",
      "\u001b[0;31mNameError\u001b[0m                                 Traceback (most recent call last)",
      "\u001b[0;32m/tmp/ipykernel_3602/3624861995.py\u001b[0m in \u001b[0;36m<module>\u001b[0;34m\u001b[0m\n\u001b[1;32m      1\u001b[0m \u001b[0;32mfor\u001b[0m \u001b[0mi\u001b[0m \u001b[0;32min\u001b[0m \u001b[0mtqdm\u001b[0m\u001b[0;34m(\u001b[0m\u001b[0mrange\u001b[0m\u001b[0;34m(\u001b[0m\u001b[0mlen\u001b[0m\u001b[0;34m(\u001b[0m\u001b[0merp\u001b[0m\u001b[0;34m)\u001b[0m\u001b[0;34m)\u001b[0m\u001b[0;34m)\u001b[0m\u001b[0;34m:\u001b[0m\u001b[0;34m\u001b[0m\u001b[0;34m\u001b[0m\u001b[0m\n\u001b[1;32m      2\u001b[0m     \u001b[0mword_tokens\u001b[0m \u001b[0;34m=\u001b[0m \u001b[0;34m''\u001b[0m\u001b[0;34m.\u001b[0m\u001b[0mjoin\u001b[0m\u001b[0;34m(\u001b[0m\u001b[0;34m(\u001b[0m\u001b[0merp\u001b[0m\u001b[0;34m[\u001b[0m\u001b[0;34m'model_name'\u001b[0m\u001b[0;34m]\u001b[0m\u001b[0;34m[\u001b[0m\u001b[0mi\u001b[0m\u001b[0;34m]\u001b[0m\u001b[0;34m)\u001b[0m\u001b[0;34m)\u001b[0m\u001b[0;34m.\u001b[0m\u001b[0msplit\u001b[0m\u001b[0;34m(\u001b[0m\u001b[0;34m)\u001b[0m\u001b[0;34m\u001b[0m\u001b[0;34m\u001b[0m\u001b[0m\n\u001b[0;32m----> 3\u001b[0;31m     \u001b[0mresult\u001b[0m \u001b[0;34m=\u001b[0m \u001b[0;34m[\u001b[0m\u001b[0mword\u001b[0m \u001b[0;32mfor\u001b[0m \u001b[0mword\u001b[0m \u001b[0;32min\u001b[0m \u001b[0mword_tokens\u001b[0m \u001b[0;32mif\u001b[0m \u001b[0;32mnot\u001b[0m \u001b[0mword\u001b[0m \u001b[0;32min\u001b[0m \u001b[0mstop_words\u001b[0m\u001b[0;34m]\u001b[0m\u001b[0;34m\u001b[0m\u001b[0;34m\u001b[0m\u001b[0m\n\u001b[0m\u001b[1;32m      4\u001b[0m     \u001b[0merp\u001b[0m\u001b[0;34m[\u001b[0m\u001b[0;34m'model_name'\u001b[0m\u001b[0;34m]\u001b[0m\u001b[0;34m[\u001b[0m\u001b[0mi\u001b[0m\u001b[0;34m]\u001b[0m\u001b[0;34m=\u001b[0m\u001b[0mresult\u001b[0m\u001b[0;34m\u001b[0m\u001b[0;34m\u001b[0m\u001b[0m\n",
      "\u001b[0;32m/tmp/ipykernel_3602/3624861995.py\u001b[0m in \u001b[0;36m<listcomp>\u001b[0;34m(.0)\u001b[0m\n\u001b[1;32m      1\u001b[0m \u001b[0;32mfor\u001b[0m \u001b[0mi\u001b[0m \u001b[0;32min\u001b[0m \u001b[0mtqdm\u001b[0m\u001b[0;34m(\u001b[0m\u001b[0mrange\u001b[0m\u001b[0;34m(\u001b[0m\u001b[0mlen\u001b[0m\u001b[0;34m(\u001b[0m\u001b[0merp\u001b[0m\u001b[0;34m)\u001b[0m\u001b[0;34m)\u001b[0m\u001b[0;34m)\u001b[0m\u001b[0;34m:\u001b[0m\u001b[0;34m\u001b[0m\u001b[0;34m\u001b[0m\u001b[0m\n\u001b[1;32m      2\u001b[0m     \u001b[0mword_tokens\u001b[0m \u001b[0;34m=\u001b[0m \u001b[0;34m''\u001b[0m\u001b[0;34m.\u001b[0m\u001b[0mjoin\u001b[0m\u001b[0;34m(\u001b[0m\u001b[0;34m(\u001b[0m\u001b[0merp\u001b[0m\u001b[0;34m[\u001b[0m\u001b[0;34m'model_name'\u001b[0m\u001b[0;34m]\u001b[0m\u001b[0;34m[\u001b[0m\u001b[0mi\u001b[0m\u001b[0;34m]\u001b[0m\u001b[0;34m)\u001b[0m\u001b[0;34m)\u001b[0m\u001b[0;34m.\u001b[0m\u001b[0msplit\u001b[0m\u001b[0;34m(\u001b[0m\u001b[0;34m)\u001b[0m\u001b[0;34m\u001b[0m\u001b[0;34m\u001b[0m\u001b[0m\n\u001b[0;32m----> 3\u001b[0;31m     \u001b[0mresult\u001b[0m \u001b[0;34m=\u001b[0m \u001b[0;34m[\u001b[0m\u001b[0mword\u001b[0m \u001b[0;32mfor\u001b[0m \u001b[0mword\u001b[0m \u001b[0;32min\u001b[0m \u001b[0mword_tokens\u001b[0m \u001b[0;32mif\u001b[0m \u001b[0;32mnot\u001b[0m \u001b[0mword\u001b[0m \u001b[0;32min\u001b[0m \u001b[0mstop_words\u001b[0m\u001b[0;34m]\u001b[0m\u001b[0;34m\u001b[0m\u001b[0;34m\u001b[0m\u001b[0m\n\u001b[0m\u001b[1;32m      4\u001b[0m     \u001b[0merp\u001b[0m\u001b[0;34m[\u001b[0m\u001b[0;34m'model_name'\u001b[0m\u001b[0;34m]\u001b[0m\u001b[0;34m[\u001b[0m\u001b[0mi\u001b[0m\u001b[0;34m]\u001b[0m\u001b[0;34m=\u001b[0m\u001b[0mresult\u001b[0m\u001b[0;34m\u001b[0m\u001b[0;34m\u001b[0m\u001b[0m\n",
      "\u001b[0;31mNameError\u001b[0m: name 'stop_words' is not defined"
     ]
    }
   ],
   "source": [
    "for i in tqdm(range(len(erp))):\n",
    "    word_tokens = ''.join((erp['model_name'][i])).split()\n",
    "    result = [word for word in word_tokens if not word in stop_words]\n",
    "    erp['model_name'][i]=result"
   ]
  },
  {
   "cell_type": "code",
   "execution_count": null,
   "id": "4088cb92-30d7-4b99-868f-f51221863987",
   "metadata": {},
   "outputs": [],
   "source": [
    "erp"
   ]
  },
  {
   "cell_type": "code",
   "execution_count": null,
   "id": "a513e92a-6c55-43dc-994a-e67ca8880681",
   "metadata": {},
   "outputs": [],
   "source": [
    "# ''.join((erp['model_name'][1191]))"
   ]
  },
  {
   "cell_type": "code",
   "execution_count": null,
   "id": "f98c51e5-fe17-46de-ad18-efd5f6aea015",
   "metadata": {},
   "outputs": [],
   "source": [
    "#불용어 정리 for erp 차종\n",
    "remove_word=['시리즈', '더뉴','뉴', '올','올뉴', '91', 'DN8', '12', '만26세', '구형1617', '4인승', '오픈카', '7인승','8인승경', '8인승', \n",
    "             '2021', '9인승', '11인승', '12인', 'LPG0', 'HG', 'ISO쥬니어', 'L', '3세대','4세대', '넥스트', '휘', '5인승경', \n",
    "             '7인승경', '9인승경', '2020','2022', '2018', 'dn8' ,'18' ,'19',  '21', '5도어', '20년', '4W','4WD', 'CN7G','더올','PG',\n",
    "            'G70','G80','에어','D3','신형','202026세','10','2223년','D32020','F','부스터','526세','전기차','20년PG','11',\n",
    "            '하이브리드','라이즈','럭셔리','IGPG','DN26세','년', '경유', '베리','인','더올','발유','KA4','SG2Hybrid','K디올','경유','인승','만세','AK','세대','MQ','4GK4414','15',\n",
    "            '2D','더마스터','SX','하이리무진733','17','MX00CVV','고급형','에이디','IG3000PI베이직','9P20EVGT','IG30렌터카PI모던','XDRIVE','리무진9','TN그랜드','61호64','승','기본형','프리미어','장기',\n",
    "            '발류','380','NX4','에스컬레이드D','하이리무진','22','23','45TSI콰트로스포트백','22','GDI38','유MQ4','8세대','더','경','가솔린','5세대D','5세대','C0카브리레','2세대','더제타',\n",
    "             '해비치프로모션','35TDI쿼트로','TUCSON','15승오토','엘피지','볼드','로드스터자차','롱레지어스','02W','CN723','THENEW','30PI','SEDAN','전기','23','16','1','G',\n",
    "            '다이치&조이','다이치시즌2', '26세','IX','38', ]\n",
    "#'20','9','G9','D'"
   ]
  },
  {
   "cell_type": "code",
   "execution_count": 25,
   "id": "23475156-d5dc-4d85-a546-9d6f0086ec01",
   "metadata": {},
   "outputs": [
    {
     "name": "stderr",
     "output_type": "stream",
     "text": [
      "100%|██████████| 1203/1203 [00:41<00:00, 29.03it/s]\n"
     ]
    }
   ],
   "source": [
    "#불용어 제거\n",
    "for i in tqdm(range(len(erp))):\n",
    "    word_tokens = ''.join((erp['model_name'][i]))\n",
    "    for j in range(len(remove_word)):\n",
    "        word_tokens=word_tokens.replace(remove_word[j], \"\")\n",
    "        erp['model_name'][i]=word_tokens"
   ]
  },
  {
   "cell_type": "code",
   "execution_count": 26,
   "id": "7d960113-aabd-47fe-bb73-c9aeb52ced33",
   "metadata": {},
   "outputs": [
    {
     "data": {
      "text/html": [
       "<div>\n",
       "<style scoped>\n",
       "    .dataframe tbody tr th:only-of-type {\n",
       "        vertical-align: middle;\n",
       "    }\n",
       "\n",
       "    .dataframe tbody tr th {\n",
       "        vertical-align: top;\n",
       "    }\n",
       "\n",
       "    .dataframe thead th {\n",
       "        text-align: right;\n",
       "    }\n",
       "</style>\n",
       "<table border=\"1\" class=\"dataframe\">\n",
       "  <thead>\n",
       "    <tr style=\"text-align: right;\">\n",
       "      <th></th>\n",
       "      <th>model_name</th>\n",
       "      <th>car_type</th>\n",
       "    </tr>\n",
       "  </thead>\n",
       "  <tbody>\n",
       "    <tr>\n",
       "      <th>0</th>\n",
       "      <td>K3</td>\n",
       "      <td>00</td>\n",
       "    </tr>\n",
       "    <tr>\n",
       "      <th>1</th>\n",
       "      <td>K5</td>\n",
       "      <td>00</td>\n",
       "    </tr>\n",
       "    <tr>\n",
       "      <th>2</th>\n",
       "      <td>k3</td>\n",
       "      <td>00</td>\n",
       "    </tr>\n",
       "    <tr>\n",
       "      <th>3</th>\n",
       "      <td>SM3</td>\n",
       "      <td>00</td>\n",
       "    </tr>\n",
       "    <tr>\n",
       "      <th>4</th>\n",
       "      <td>K5</td>\n",
       "      <td>00</td>\n",
       "    </tr>\n",
       "    <tr>\n",
       "      <th>...</th>\n",
       "      <td>...</td>\n",
       "      <td>...</td>\n",
       "    </tr>\n",
       "    <tr>\n",
       "      <th>1198</th>\n",
       "      <td>쏘나타     │ 24호24</td>\n",
       "      <td>00</td>\n",
       "    </tr>\n",
       "    <tr>\n",
       "      <th>1199</th>\n",
       "      <td>쏘렌토  마스터 D 2 │5허</td>\n",
       "      <td>00</td>\n",
       "    </tr>\n",
       "    <tr>\n",
       "      <th>1200</th>\n",
       "      <td>아반떼 AD 스포츠   │ 47호5</td>\n",
       "      <td>00</td>\n",
       "    </tr>\n",
       "    <tr>\n",
       "      <th>1201</th>\n",
       "      <td>The K9  플래티넘 II AT</td>\n",
       "      <td>00</td>\n",
       "    </tr>\n",
       "    <tr>\n",
       "      <th>1202</th>\n",
       "      <td>그랜져 25 프리미엄 초이스 AT  2</td>\n",
       "      <td>00</td>\n",
       "    </tr>\n",
       "  </tbody>\n",
       "</table>\n",
       "<p>1203 rows × 2 columns</p>\n",
       "</div>"
      ],
      "text/plain": [
       "                   model_name car_type\n",
       "0                          K3       00\n",
       "1                          K5       00\n",
       "2                          k3       00\n",
       "3                         SM3       00\n",
       "4                          K5       00\n",
       "...                       ...      ...\n",
       "1198          쏘나타     │ 24호24       00\n",
       "1199         쏘렌토  마스터 D 2 │5허       00\n",
       "1200      아반떼 AD 스포츠   │ 47호5       00\n",
       "1201     The K9  플래티넘 II AT         00\n",
       "1202    그랜져 25 프리미엄 초이스 AT  2       00\n",
       "\n",
       "[1203 rows x 2 columns]"
      ]
     },
     "execution_count": 26,
     "metadata": {},
     "output_type": "execute_result"
    }
   ],
   "source": [
    "erp"
   ]
  },
  {
   "cell_type": "code",
   "execution_count": 27,
   "id": "cbccd147-9a03-430f-8fb8-4535231f227d",
   "metadata": {},
   "outputs": [],
   "source": [
    "#불용어 제거 데이터 확인\n",
    "erp.to_csv('erp.csv', encoding='euc-kr')"
   ]
  },
  {
   "cell_type": "code",
   "execution_count": null,
   "id": "d7270bf2-273a-4406-b5ac-38526332bc36",
   "metadata": {},
   "outputs": [],
   "source": []
  },
  {
   "cell_type": "code",
   "execution_count": null,
   "id": "b0f6aa62-2975-4e2e-ac3e-4f5ab25d5454",
   "metadata": {},
   "outputs": [],
   "source": []
  },
  {
   "cell_type": "code",
   "execution_count": 37,
   "id": "741a5218-1fc6-46c8-a082-3e003560fd34",
   "metadata": {},
   "outputs": [],
   "source": [
    "#소문자를 대문자로 변환\n",
    "erp['model_name']=erp['model_name'].str.upper()"
   ]
  },
  {
   "cell_type": "code",
   "execution_count": 38,
   "id": "713823f2-3787-4294-9c24-8495e8f9976e",
   "metadata": {},
   "outputs": [
    {
     "data": {
      "text/html": [
       "<div>\n",
       "<style scoped>\n",
       "    .dataframe tbody tr th:only-of-type {\n",
       "        vertical-align: middle;\n",
       "    }\n",
       "\n",
       "    .dataframe tbody tr th {\n",
       "        vertical-align: top;\n",
       "    }\n",
       "\n",
       "    .dataframe thead th {\n",
       "        text-align: right;\n",
       "    }\n",
       "</style>\n",
       "<table border=\"1\" class=\"dataframe\">\n",
       "  <thead>\n",
       "    <tr style=\"text-align: right;\">\n",
       "      <th></th>\n",
       "      <th>model_name</th>\n",
       "      <th>car_type</th>\n",
       "    </tr>\n",
       "  </thead>\n",
       "  <tbody>\n",
       "    <tr>\n",
       "      <th>0</th>\n",
       "      <td>K3</td>\n",
       "      <td>00</td>\n",
       "    </tr>\n",
       "    <tr>\n",
       "      <th>1</th>\n",
       "      <td>K5</td>\n",
       "      <td>00</td>\n",
       "    </tr>\n",
       "    <tr>\n",
       "      <th>2</th>\n",
       "      <td>K3</td>\n",
       "      <td>00</td>\n",
       "    </tr>\n",
       "    <tr>\n",
       "      <th>3</th>\n",
       "      <td>K8</td>\n",
       "      <td>00</td>\n",
       "    </tr>\n",
       "    <tr>\n",
       "      <th>4</th>\n",
       "      <td>CT5</td>\n",
       "      <td>00</td>\n",
       "    </tr>\n",
       "    <tr>\n",
       "      <th>...</th>\n",
       "      <td>...</td>\n",
       "      <td>...</td>\n",
       "    </tr>\n",
       "    <tr>\n",
       "      <th>1197</th>\n",
       "      <td>쏘나타</td>\n",
       "      <td>00</td>\n",
       "    </tr>\n",
       "    <tr>\n",
       "      <th>1198</th>\n",
       "      <td>쏘렌토</td>\n",
       "      <td>00</td>\n",
       "    </tr>\n",
       "    <tr>\n",
       "      <th>1199</th>\n",
       "      <td>아반떼</td>\n",
       "      <td>00</td>\n",
       "    </tr>\n",
       "    <tr>\n",
       "      <th>1200</th>\n",
       "      <td>K9</td>\n",
       "      <td>00</td>\n",
       "    </tr>\n",
       "    <tr>\n",
       "      <th>1201</th>\n",
       "      <td>그랜져</td>\n",
       "      <td>00</td>\n",
       "    </tr>\n",
       "  </tbody>\n",
       "</table>\n",
       "<p>1202 rows × 2 columns</p>\n",
       "</div>"
      ],
      "text/plain": [
       "     model_name car_type\n",
       "0            K3       00\n",
       "1            K5       00\n",
       "2            K3       00\n",
       "3            K8       00\n",
       "4           CT5       00\n",
       "...         ...      ...\n",
       "1197        쏘나타       00\n",
       "1198        쏘렌토       00\n",
       "1199        아반떼       00\n",
       "1200         K9       00\n",
       "1201        그랜져       00\n",
       "\n",
       "[1202 rows x 2 columns]"
      ]
     },
     "execution_count": 38,
     "metadata": {},
     "output_type": "execute_result"
    }
   ],
   "source": [
    "erp"
   ]
  },
  {
   "cell_type": "code",
   "execution_count": null,
   "id": "73851058-a826-4acb-87a2-5d2bac6606cc",
   "metadata": {},
   "outputs": [],
   "source": []
  },
  {
   "cell_type": "markdown",
   "id": "0cf7c3a3-72e4-44f5-a291-7d2b436c0f9f",
   "metadata": {
    "tags": []
   },
   "source": [
    "### 텍스트 유사도(자카드) 기반 맵핑"
   ]
  },
  {
   "cell_type": "code",
   "execution_count": 39,
   "id": "42756231-3b8d-438e-abd2-c2a76a0f8c83",
   "metadata": {},
   "outputs": [],
   "source": [
    "# 자카드 유사도 함수\n",
    "def jaccard_similarity(list1, list2):\n",
    "    s1 = set(list1)\n",
    "    s2 = set(list2)\n",
    "    return float(len(s1.intersection(s2)) / len(s1.union(s2)))"
   ]
  },
  {
   "cell_type": "code",
   "execution_count": 40,
   "id": "5dbbba79-ce3e-44bc-a102-91bf44303db0",
   "metadata": {},
   "outputs": [],
   "source": [
    "#list((erp.iloc[0].to_dict()['model_name']).lower())"
   ]
  },
  {
   "cell_type": "code",
   "execution_count": 41,
   "id": "0e9fedf0-ef69-49a7-a326-c99e989c6ba4",
   "metadata": {},
   "outputs": [],
   "source": [
    "jjps_dic=jjps.iloc[0].to_dict()"
   ]
  },
  {
   "cell_type": "code",
   "execution_count": 42,
   "id": "6ec32184-83d1-4567-aa54-2dcab72a1c20",
   "metadata": {},
   "outputs": [],
   "source": [
    "erp_dic=erp.iloc[14].to_dict()"
   ]
  },
  {
   "cell_type": "code",
   "execution_count": 43,
   "id": "58766ab8-d188-4a14-b342-cc5c2f999a55",
   "metadata": {},
   "outputs": [
    {
     "data": {
      "text/plain": [
       "'레이'"
      ]
     },
     "execution_count": 43,
     "metadata": {},
     "output_type": "execute_result"
    }
   ],
   "source": [
    "erp_dic['model_name']"
   ]
  },
  {
   "cell_type": "code",
   "execution_count": 44,
   "id": "620f6fb6-9533-4c5d-a018-9ec46513a5ae",
   "metadata": {},
   "outputs": [
    {
     "data": {
      "text/plain": [
       "['레이']"
      ]
     },
     "execution_count": 44,
     "metadata": {},
     "output_type": "execute_result"
    }
   ],
   "source": [
    "a=erp_dic['model_name'].split()\n",
    "a"
   ]
  },
  {
   "cell_type": "code",
   "execution_count": 45,
   "id": "197412ac-dd37-42f5-8cef-52ee71ab9c2e",
   "metadata": {},
   "outputs": [
    {
     "data": {
      "text/plain": [
       "['모닝', '캐스퍼', '스파크', '레이']"
      ]
     },
     "execution_count": 45,
     "metadata": {},
     "output_type": "execute_result"
    }
   ],
   "source": [
    "jjps_dic['car_name']"
   ]
  },
  {
   "cell_type": "code",
   "execution_count": 46,
   "id": "fcb20638-e1a0-45ac-95bf-f7f5f8feb43c",
   "metadata": {},
   "outputs": [
    {
     "data": {
      "text/plain": [
       "0.25"
      ]
     },
     "execution_count": 46,
     "metadata": {},
     "output_type": "execute_result"
    }
   ],
   "source": [
    "jaccard_similarity(jjps_dic['car_name'],erp_dic['model_name'].split())"
   ]
  },
  {
   "cell_type": "code",
   "execution_count": 52,
   "id": "44de1fd1-bc85-4eb6-ab8e-cde582ae0493",
   "metadata": {},
   "outputs": [],
   "source": [
    "for i in range(len(jjps)):\n",
    "    jjps_dic=jjps.iloc[i].to_dict()\n",
    "    for j in range(len(erp)):\n",
    "        erp_dic=erp.iloc[j].to_dict()\n",
    "        if jaccard_similarity((jjps_dic['car_name']),(erp_dic['model_name'].split())) != 0:\n",
    "            erp['car_type'].iloc[j]=jjps_dic['car_type']"
   ]
  },
  {
   "cell_type": "code",
   "execution_count": 48,
   "id": "456e9f13-09b5-47cc-b674-8cfb56dd4781",
   "metadata": {},
   "outputs": [],
   "source": [
    "for i in range(len(jjps)):\n",
    "    #similarity=[]\n",
    "    jjps_dic=jjps.iloc[i].to_dict()\n",
    "    #print((jjps_dic['car_name']))\n",
    "    #print((jjps_dic['car_type']))\n",
    "    for j in range(len(erp)):\n",
    "        erp_dic=erp.iloc[j].to_dict()\n",
    "        #print((erp_dic['model_name']))\n",
    "        #similarity.append(jaccard_similarity((jjps_dic['car_name']),(erp_dic['model_name'].split())))\n",
    "        \n",
    "        #if jaccard_similarity((jjps.iloc[i].to_dict()['product_name']).lower().split(','),(model_erp.iloc[j].to_dict()['model_name']).lower().split(',')) != 0:\n",
    "        if jaccard_similarity((jjps_dic['car_name']),(erp_dic['model_name'].split())) != 0:\n",
    "            erp['car_type'].iloc[i]=jjps_dic['car_type']\n",
    "        #print(similarity)\n",
    "    #print(\"--------------\")"
   ]
  },
  {
   "cell_type": "code",
   "execution_count": 54,
   "id": "e6fdcff5-a1de-44e2-97ac-0a149ded2cad",
   "metadata": {},
   "outputs": [],
   "source": [
    "erp.to_csv('erp_added.csv', encoding='euc-kr')"
   ]
  },
  {
   "cell_type": "code",
   "execution_count": 56,
   "id": "63680dd7-5840-476f-aa0d-7f6b4b1ad02c",
   "metadata": {},
   "outputs": [
    {
     "data": {
      "text/plain": [
       "['모닝', '캐스퍼', '스파크', '레이']"
      ]
     },
     "execution_count": 56,
     "metadata": {},
     "output_type": "execute_result"
    }
   ],
   "source": [
    "jjps['car_name'][0]"
   ]
  },
  {
   "cell_type": "code",
   "execution_count": 64,
   "id": "148f497e-fd0b-4e2b-958b-6ca3517303be",
   "metadata": {},
   "outputs": [
    {
     "name": "stdout",
     "output_type": "stream",
     "text": [
      "okay\n"
     ]
    }
   ],
   "source": [
    "a = '모닝'\n",
    "b = '모닝5'\n",
    "if a in b:\n",
    "    print('okay')\n",
    "else:\n",
    "    print('no')"
   ]
  },
  {
   "cell_type": "code",
   "execution_count": null,
   "id": "16ecb83c-89bb-4d87-b1bd-b92707c5e6ae",
   "metadata": {},
   "outputs": [],
   "source": [
    "p.match("
   ]
  },
  {
   "cell_type": "code",
   "execution_count": null,
   "id": "b8e6d26f-9492-4db0-9fc4-f3b728ebf083",
   "metadata": {},
   "outputs": [],
   "source": []
  },
  {
   "cell_type": "code",
   "execution_count": 217,
   "id": "1e3eda14-2563-4bde-ac95-7b3152bf67c3",
   "metadata": {
    "tags": []
   },
   "outputs": [],
   "source": [
    "jjps.to_csv('jjps.csv', encoding='euc-kr')"
   ]
  },
  {
   "cell_type": "code",
   "execution_count": 170,
   "id": "aa0560e5-7140-4fa4-886e-8b5b39065ea1",
   "metadata": {},
   "outputs": [
    {
     "data": {
      "text/plain": [
       "{'car_type': '01',\n",
       " 'car_name': ['모닝',\n",
       "  '캐스퍼',\n",
       "  '스파크',\n",
       "  '모닝',\n",
       "  '캐스퍼',\n",
       "  '넥스트',\n",
       "  '스파크',\n",
       "  '레이',\n",
       "  '레이',\n",
       "  '모닝',\n",
       "  '모닝',\n",
       "  '모닝',\n",
       "  '모닝',\n",
       "  '모닝',\n",
       "  '레이',\n",
       "  '레이',\n",
       "  '스파크',\n",
       "  '모닝',\n",
       "  '레이',\n",
       "  '스파크']}"
      ]
     },
     "execution_count": 170,
     "metadata": {},
     "output_type": "execute_result"
    }
   ],
   "source": [
    "jjps.iloc[0].to_dict()"
   ]
  },
  {
   "cell_type": "code",
   "execution_count": 38,
   "id": "b7407d0c-fc6d-4d83-874c-aea444d206bd",
   "metadata": {},
   "outputs": [],
   "source": [
    "for i in range(len(jjps)):\n",
    "    jjps_dic=jjps.iloc[i].to_dict()\n",
    "    for j in range(len(erp)):\n",
    "        erp_dic=erp.iloc[i].to_dict()\n",
    "        if jaccard_similarity((jjps.iloc[i].to_dict()['car_name']).lower().split(','),(erp.iloc[j].to_dict()['model_name']).lower().split(',')) != 0:\n",
    "            erp['car_type'].iloc[j]=jjps_dic['car_type']\n"
   ]
  },
  {
   "cell_type": "code",
   "execution_count": 44,
   "id": "2920b0e8-4288-4559-b76a-d20adf654b5c",
   "metadata": {},
   "outputs": [],
   "source": [
    "erp.to_csv('erp.csv', encoding='euc-kr')"
   ]
  },
  {
   "cell_type": "code",
   "execution_count": null,
   "id": "d85689ae-141a-42d0-81fb-9d8935589116",
   "metadata": {},
   "outputs": [],
   "source": [
    "'더','뉴','인스퍼레이션','올','어반','차박','캠핑'\n",
    "'EV','컨버터블','컨버터블S','E208',\n",
    "'라이즈','카브리올레','LF','DN8','3세대','1.6','터보','8세대','2세대','4세대','7인','8인','9인','11인','15인','TM',\n",
    "'하이리무진','스포츠',"
   ]
  },
  {
   "cell_type": "code",
   "execution_count": null,
   "id": "04e1f964-45dc-429e-878d-5769329f0a4e",
   "metadata": {},
   "outputs": [],
   "source": [
    "'2세대','3세대',\n",
    "'휘','휘발유','가솔린','경유',\n",
    "'프리미엄','플래티넘','올뉴','더뉴','LE',\n",
    "'19', '2016','2017','2018','2019','2020','2021','2022',\n",
    "'만26세',\n",
    "'9인승',\n",
    "'AWD',\n"
   ]
  },
  {
   "cell_type": "code",
   "execution_count": 41,
   "id": "cf16483b-a041-4ba3-ba4f-2cfd5eea63f7",
   "metadata": {},
   "outputs": [],
   "source": [
    "a='K53세대'"
   ]
  },
  {
   "cell_type": "code",
   "execution_count": 42,
   "id": "a9d75552-bf5d-4036-a0ec-2028aa78aa29",
   "metadata": {},
   "outputs": [
    {
     "data": {
      "text/plain": [
       "'K5'"
      ]
     },
     "execution_count": 42,
     "metadata": {},
     "output_type": "execute_result"
    }
   ],
   "source": [
    "a.replace('3세대','')"
   ]
  },
  {
   "cell_type": "code",
   "execution_count": 90,
   "id": "b085500e-5f75-4a53-9ed3-d865801c7b8c",
   "metadata": {},
   "outputs": [
    {
     "name": "stdout",
     "output_type": "stream",
     "text": [
      "Okay\n"
     ]
    }
   ],
   "source": [
    "myHost = \"webisfree.com\"\n",
    "search = \"ree\"\n",
    "if search in myHost:\n",
    "    print(\"Okay\")\n",
    "else:\n",
    "    print(\"None\")"
   ]
  },
  {
   "cell_type": "code",
   "execution_count": null,
   "id": "2db4458a-1e91-49c0-8566-6b148366a140",
   "metadata": {},
   "outputs": [],
   "source": []
  }
 ],
 "metadata": {
  "environment": {
   "kernel": "python3",
   "name": "tf2-gpu.2-6.m97",
   "type": "gcloud",
   "uri": "gcr.io/deeplearning-platform-release/tf2-gpu.2-6:m97"
  },
  "kernelspec": {
   "display_name": "Python 3",
   "language": "python",
   "name": "python3"
  },
  "language_info": {
   "codemirror_mode": {
    "name": "ipython",
    "version": 3
   },
   "file_extension": ".py",
   "mimetype": "text/x-python",
   "name": "python",
   "nbconvert_exporter": "python",
   "pygments_lexer": "ipython3",
   "version": "3.7.12"
  }
 },
 "nbformat": 4,
 "nbformat_minor": 5
}
